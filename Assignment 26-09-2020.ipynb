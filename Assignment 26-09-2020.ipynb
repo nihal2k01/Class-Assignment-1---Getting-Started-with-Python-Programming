{
  "nbformat": 4,
  "nbformat_minor": 0,
  "metadata": {
    "colab": {
      "name": "Untitled0.ipynb",
      "provenance": [],
      "authorship_tag": "ABX9TyN0kiVzuroNRAgMHyM7Iev7",
      "include_colab_link": true
    },
    "kernelspec": {
      "name": "python3",
      "display_name": "Python 3"
    }
  },
  "cells": [
    {
      "cell_type": "markdown",
      "metadata": {
        "id": "view-in-github",
        "colab_type": "text"
      },
      "source": [
        "<a href=\"https://colab.research.google.com/github/nihal2k01/Class-Assignment-1---Getting-Started-with-Python-Programming/blob/master/Assignment%2026-09-2020.ipynb\" target=\"_parent\"><img src=\"https://colab.research.google.com/assets/colab-badge.svg\" alt=\"Open In Colab\"/></a>"
      ]
    },
    {
      "cell_type": "code",
      "metadata": {
        "id": "L4YjWImCT2Pp",
        "outputId": "98660a2d-8941-43ed-e816-e012f3ec0126",
        "colab": {
          "base_uri": "https://localhost:8080/",
          "height": 85
        }
      },
      "source": [
        "try:\n",
        "  a=float(input(\"The first number:\"))\n",
        "  b=float(input(\"The second number:\"))\n",
        "  c=float(input(\"The third number:\"))\n",
        "\n",
        "  if a>b:\n",
        "    large=a\n",
        "  else:\n",
        "    large=b\n",
        "  if large<c:\n",
        "    large=c\n",
        "  print(\"The largest number:\",large)\n",
        "except:\n",
        "  print(\"Bad Input!\")"
      ],
      "execution_count": 1,
      "outputs": [
        {
          "output_type": "stream",
          "text": [
            "The first number:21\n",
            "The second number:20\n",
            "The third number:23\n",
            "The largest number: 23.0\n"
          ],
          "name": "stdout"
        }
      ]
    }
  ]
}